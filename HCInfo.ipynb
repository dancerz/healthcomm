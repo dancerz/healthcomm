{
 "cells": [
  {
   "cell_type": "markdown",
   "id": "4c14da33-4776-48d4-b02b-d31943e598b5",
   "metadata": {},
   "source": [
    "# Health Communication Assignment: Stress Management\n",
    "    by Zaria Dancer & Favour Akadiri "
   ]
  },
  {
   "cell_type": "markdown",
   "id": "dfc41862-d052-4bc0-8398-5aa9d651a42a",
   "metadata": {},
   "source": [
    "----------------------------------------------"
   ]
  },
  {
   "cell_type": "markdown",
   "id": "791b9359-e055-4ed7-8af0-b46f012a4d70",
   "metadata": {},
   "source": [
    "For our Health Communication Messaging Assignment, we decided to select **Stress Management**. When we began this project, we started by crafting words to feed to AI models to create our images, messaging, and other information materials. This didn't turn out how we expected, so we continued this process by leveraging AI to create prompts / specific scripts to feed to AI models that create Images and Videos. "
   ]
  },
  {
   "cell_type": "markdown",
   "id": "9c2b559d-aa43-4804-b5e7-7853f376542b",
   "metadata": {},
   "source": [
    "#### **Target Behavior**:  Effective Stress Management Techniques"
   ]
  },
  {
   "cell_type": "markdown",
   "id": "7c154f29-6828-4f68-9511-a7fc88c5645b",
   "metadata": {},
   "source": [
    "Right below, you can see our initial attempts and outputs:\n",
    "\n",
    "These were generated with simple language such as **yoga**, **meditation**, **mindfulness**, and **stress management**. "
   ]
  },
  {
   "cell_type": "markdown",
   "id": "4673183a-0733-482d-9804-6fa407fe1476",
   "metadata": {},
   "source": [
    "<img src=\"img/AI.jpg\" width=\"30%\"/>"
   ]
  },
  {
   "cell_type": "markdown",
   "id": "ea52bb16-6c3e-4a65-85bf-42cc5a1c8688",
   "metadata": {},
   "source": [
    "<img src=\"img/AI2.jpg\" width=\"30%\"/>"
   ]
  },
  {
   "cell_type": "markdown",
   "id": "d9b3c609-88c5-4482-b5d8-6c87fbb12a23",
   "metadata": {},
   "source": [
    "<img src=\"img/AI3.jpg\" width=\"30%\"/>"
   ]
  },
  {
   "cell_type": "markdown",
   "id": "531b9953-6a94-4255-b7bd-bd9085b6ee45",
   "metadata": {},
   "source": [
    "<img src=\"img/AI4.jpg\" width=\"30%\"/>"
   ]
  },
  {
   "cell_type": "markdown",
   "id": "82484494-21a5-4cda-a35b-999f9986a47a",
   "metadata": {},
   "source": [
    "## Text"
   ]
  },
  {
   "cell_type": "markdown",
   "id": "4318f87e-90c7-4f1a-b9d8-6a50fd178749",
   "metadata": {},
   "source": [
    "### Gemini (Google AI Model)"
   ]
  },
  {
   "cell_type": "markdown",
   "id": "6c66e50d-88f8-4e4c-9093-48970135f9ef",
   "metadata": {},
   "source": [
    "#### Scenario A: *Contrasting Framing (Gain vs. Loss)*"
   ]
  },
  {
   "cell_type": "markdown",
   "id": "c878ced9-5bb2-4546-b827-9c2f834d63b8",
   "metadata": {},
   "source": [
    "#### **Social Media Post** (Instagram/Facebook):"
   ]
  },
  {
   "cell_type": "markdown",
   "id": "c45ba300-e84c-413c-b6cc-2526505abfa8",
   "metadata": {},
   "source": [
    "**Campaign Slogan**:  Don't Let Stress Steal Your Joy. Find Calm and Take Control.\n",
    "\n",
    "**Image**: Split image. Left side: Person overwhelmed with work, frustrated expression. Right side: Person calmly meditating in nature, smiling.\n",
    "\n",
    "**Caption**: Feeling stressed? Don't wait until it impacts your happiness. Learn simple techniques to manage stress and regain control of your well-being. Visit our website (link in bio) for free resources! #stressmanagement #mentalhealth"
   ]
  },
  {
   "cell_type": "markdown",
   "id": "009aa7cf-2dfc-44c8-a72b-8f05c5f6fbd2",
   "metadata": {},
   "source": [
    "#### **Infographic PSA** (Print/Digital):\n",
    "\n",
    "**Headline**: Fight Back Against Stress: Gain Calm, Not Chaos\n",
    "\n",
    "**Content**: Highlight negative consequences of stress (loss of sleep, health problems, strained relationships). (Loss Frame)\n",
    "\n",
    "Showcase benefits of stress management techniques (improved sleep, increased focus, better mood). (Gain Frame)\n",
    "\n",
    "Offer resources for learning relaxation techniques (deep breathing, meditation)"
   ]
  },
  {
   "cell_type": "markdown",
   "id": "8b8f84db-231a-497b-92bd-5afb3850e600",
   "metadata": {},
   "source": [
    "#### Scenario B: Tailored Messaging by Age Group"
   ]
  },
  {
   "cell_type": "markdown",
   "id": "deb74a27-33e6-4673-a83b-65e8c867740c",
   "metadata": {},
   "source": [
    "#### **Social Media Post** (TikTok/YouTube/Instagram):"
   ]
  },
  {
   "cell_type": "markdown",
   "id": "2123cf26-f903-477c-8631-08544c277185",
   "metadata": {},
   "source": [
    "**Campaign Slogan**:  Stress Less, Live More. Find what works for YOU.\n",
    "\n",
    "**Target Audience**: Young Adults (18-25)\n",
    "\n",
    "**Style**: Energetic, relatable, humorous.\n",
    "\n",
    "**Content**: Short skit portraying a young adult juggling school, work, and social life, feeling overwhelmed. Introduce quick stress management tips (power naps, mindfulness exercises) delivered in a lighthearted way.\n",
    "\n",
    "**Call to Actio**n: Visit our website for a personalized stress management plan!"
   ]
  },
  {
   "cell_type": "markdown",
   "id": "cffd2d7a-d44b-4d66-9684-82708181e2b5",
   "metadata": {},
   "source": [
    "#### **Informational Pamphlet** (Community Centers/Doctor's Offices):"
   ]
  },
  {
   "cell_type": "markdown",
   "id": "14741b47-5e09-4fc9-aef8-cea9728c28fb",
   "metadata": {},
   "source": [
    "Target Audience: Older Adults (55+)\n",
    "\n",
    "**Style**: Clear, concise, informative.\n",
    "\n",
    "**Content**: Explain the connection between stress and health for older adults (heart disease, weakened immune system).\n",
    "\n",
    "**Highlight**: Easy-to-follow relaxation techniques (gentle yoga, spending time in nature).\n",
    "\n",
    "**Call to Action**: Talk to your doctor about stress management and creating a healthy lifestyle plan."
   ]
  },
  {
   "cell_type": "markdown",
   "id": "3a0512e4-e448-4cc8-90d2-6fef7c4761bf",
   "metadata": {},
   "source": [
    "### **Then I asked ChatGPT**"
   ]
  },
  {
   "cell_type": "markdown",
   "id": "047ea582-e3e8-409c-adb5-250d47ad980d",
   "metadata": {},
   "source": [
    "    How effective are these ideas for a Health Communication Campaign focused on Stress Management?"
   ]
  },
  {
   "cell_type": "markdown",
   "id": "b9be1480-e026-4af7-8310-7658157cf371",
   "metadata": {},
   "source": [
    "Both scenarios present effective approaches for a health communication campaign focused on stress management. Let's evaluate each scenario:\n",
    "\n",
    "Scenario A: Contrasting Framing (Gain vs. Loss)\n",
    "\n",
    "*Strengths*:\n",
    "\n",
    "Dual Framing: By using both gain and loss framing, the campaign appeals to a broader audience. Some individuals may respond more to the benefits they could gain from managing stress, while others may be motivated by avoiding negative consequences.\n",
    "Visual Appeal: The split image and contrasting visuals effectively convey the message, making it engaging and memorable.\n",
    "Clear Call to Action: The call to action directs individuals to the campaign website for free resources, providing a tangible next step for those interested in managing their stress.\n",
    "\n",
    "*Potential Improvements*:\n",
    "\n",
    "Diverse Representation: Ensure that the campaign visuals and messaging represent a diverse range of demographics to make it more inclusive and relatable to a wider audience.\n",
    "\n",
    "Interactive Elements: Consider incorporating interactive elements in the social media post or infographic to encourage audience engagement, such as polls or quizzes related to stress management.\n",
    "\n",
    "Scenario B: Tailored Messaging by Age Group\n",
    "\n",
    "*Strengths*:\n",
    "\n",
    "Targeted Messaging: Tailoring the message to specific age groups acknowledges the unique stressors and preferences of different demographics, increasing relevance and effectiveness.\n",
    "\n",
    "Platform Suitability: The choice of platforms (YouTube/TikTok for young adults and community centers/doctor's offices for older adults) aligns with the preferences and habits of each age group, maximizing reach and engagement.\n",
    "\n",
    "Appropriate Tone: The tone of the content matches the characteristics of each age group, ensuring that the message resonates with the intended audience.\n",
    "\n",
    "*Potential Improvements*:\n",
    "\n",
    "Inclusivity: While tailoring messages by age group is effective, it's essential to recognize the diversity within each demographic and ensure that the campaign is inclusive of various cultural backgrounds, lifestyles, and experiences.\n",
    "Personalization: Consider incorporating elements of personalization beyond age group, such as gender or occupation, to further enhance relevance and engagement.\n",
    "\n",
    "In conclusion, both scenarios offer valuable strategies for a health communication campaign focused on stress management. By combining elements of both approaches and addressing potential improvements, the campaign can effectively reach and resonate with a diverse audience, encouraging them to adopt effective stress management techniques."
   ]
  },
  {
   "cell_type": "markdown",
   "id": "64abe563-a486-4241-a83f-e56e931fbcf3",
   "metadata": {},
   "source": [
    "## Images"
   ]
  },
  {
   "cell_type": "markdown",
   "id": "b7577bc1-8101-423d-aaac-b5e41b46a4d6",
   "metadata": {},
   "source": [
    "I decided to use the exact text that was generated from **Google's Gemini**, to create images with **Bing's Co-Pilot**. Below, you will see each input and all 4 outputs that correspond (with the input). "
   ]
  },
  {
   "cell_type": "markdown",
   "id": "9cb81e8e-770e-46e2-bc87-6f6d7aac95ad",
   "metadata": {},
   "source": [
    "    Campaign Slogan: Don't Let Stress Steal Your Joy. Find Calm and Take Control. Social Media Post (Instagram/Facebook): Image: Split image. Left side: Person overwhelmed with work, frustrated expression. Right side: Person calmly meditating in nature, smiling."
   ]
  },
  {
   "cell_type": "markdown",
   "id": "35c2effc-71ae-4ba8-9c21-afaeae2e3d66",
   "metadata": {},
   "source": [
    "<img src=\"img/split.jpg\" width=\"30%\"/>"
   ]
  },
  {
   "cell_type": "markdown",
   "id": "f6c3243c-6bd2-4d62-b6a6-2b2fc9adadb1",
   "metadata": {},
   "source": [
    "The overall concept of split image is well suited for stress management health communication. This specific image does a excellent job depicting a calm atmosphere and individual. On the other hand, the stressed side is scary and the words are not legible but is effective visually. Feedback participants agreed stated that the photo was striking, but drew their attention. Overall, this is my favorite output from this prompt. This was one of their favorites. "
   ]
  },
  {
   "cell_type": "markdown",
   "id": "bfc15412-0613-4ab1-920a-1264e35ef815",
   "metadata": {},
   "source": [
    "<img src=\"img/split2.jpg\" width=\"30%\"/>"
   ]
  },
  {
   "cell_type": "markdown",
   "id": "02d3eaa5-b538-4eeb-a152-670d11652c7b",
   "metadata": {},
   "source": [
    "This output isn't sufficient on its own. I would utilize this as one of the ideal lifestyle and balance photos, but not to grab a reader/viewer's attention. I would want my content to depict a clear difference between stress and rest. In addition, this photo shows two completely different people, which I find misleading. "
   ]
  },
  {
   "cell_type": "markdown",
   "id": "c18b71bf-c238-4d7c-86fe-e2419e72ea47",
   "metadata": {},
   "source": [
    "<img src=\"img/split3.jpg\" width=\"30%\"/>"
   ]
  },
  {
   "cell_type": "markdown",
   "id": "a7ff1517-16e8-40d3-b67f-8ec2877b958b",
   "metadata": {},
   "source": [
    "Similarly to the photo above, this output isn't sufficient on its own. I would utilize this as one of the ideal lifestyle photos, but not to grab a reader/viewer's attention. I would want my content to depict a clear difference between stress and rest. I also didn't enjoy the fact that the person is shirtless. "
   ]
  },
  {
   "cell_type": "markdown",
   "id": "a3e5a27b-cfdb-4e61-a2f0-f48fc3c7fa2e",
   "metadata": {},
   "source": [
    "<img src=\"img/split4.jpg\" width=\"30%\"/>"
   ]
  },
  {
   "cell_type": "markdown",
   "id": "ef592812-3232-4edf-9456-0ccf44ea988a",
   "metadata": {},
   "source": [
    "This output shows a ideal balance in regards to stress management. I am a fan of the visuals, specifically the extra back-round people. My issue with this output is the **text**. During my prompting journey with AI, I frequently see models having issues generating text on images. Feedback participants really enjoyed the colors of this output and found it to balanced and calming. They feel like this output works well with the overall message. This was one of their favorites. "
   ]
  },
  {
   "cell_type": "markdown",
   "id": "7f9f5503-980f-4ce3-815a-1c836f020d04",
   "metadata": {},
   "source": [
    "    Image: Split image. Left side: Person overwhelmed with work, frustrated expression. Right side: Person calmly meditating in nature, smiling."
   ]
  },
  {
   "cell_type": "markdown",
   "id": "7f50df9d-c905-45eb-831d-4398945dac72",
   "metadata": {},
   "source": [
    "<img src=\"img/split5.jpg\" width=\"30%\"/>"
   ]
  },
  {
   "cell_type": "markdown",
   "id": "9224d08c-771a-4563-b963-d4a095a31d34",
   "metadata": {},
   "source": [
    "Feedback participants felt like the paper was too much and that it didn't pique their interest. It also doesn't show the contrast enough or express a clear message. There should be a clear dichotomy, but there isn't."
   ]
  },
  {
   "cell_type": "markdown",
   "id": "611f5a97-0df8-45cc-9bf7-fa8b3298b68f",
   "metadata": {},
   "source": [
    "<img src=\"img/split6.jpg\" width=\"30%\"/>"
   ]
  },
  {
   "cell_type": "markdown",
   "id": "503381ff-e73d-42f2-9ada-8de229e28969",
   "metadata": {},
   "source": [
    "Participants in the feedback group dislike this one all together - there isn't a clear message and the graphics are somewhat unappealing. "
   ]
  },
  {
   "cell_type": "markdown",
   "id": "2b10a44d-cb61-4762-aeba-abefa7b02185",
   "metadata": {},
   "source": [
    "<img src=\"img/split8.jpg\" width=\"30%\"/>"
   ]
  },
  {
   "cell_type": "markdown",
   "id": "4c072c7c-2af0-4d4c-9f94-e0cbc45ef682",
   "metadata": {},
   "source": [
    "The feedback participants were not fond of faces on the left side - they found them to be weird and exaggerated."
   ]
  },
  {
   "cell_type": "markdown",
   "id": "48be6e5a-7f6e-4888-bbd8-3d78b1b55c83",
   "metadata": {},
   "source": [
    "<img src=\"img/split9.jpg\" width=\"30%\"/>"
   ]
  },
  {
   "cell_type": "markdown",
   "id": "0c72c541-0f20-443a-924a-a236b140ce4b",
   "metadata": {},
   "source": [
    "The split is weird and makes it seem like two different pictures. The participants did not like the last two. "
   ]
  },
  {
   "cell_type": "markdown",
   "id": "d6aead6e-b5ec-4a36-9f7e-2d73b77d3b76",
   "metadata": {},
   "source": [
    "     Feeling stressed? Don't wait until it impacts your happiness. Learn simple techniques to manage stress and regain control of your well-being."
   ]
  },
  {
   "cell_type": "markdown",
   "id": "da9feecf-256f-4f6a-b803-565bff3b97c3",
   "metadata": {},
   "source": [
    "<img src=\"img/stress.jpg\" width=\"30%\"/>"
   ]
  },
  {
   "cell_type": "markdown",
   "id": "5a9b5681-a627-4e13-b115-bd8697542cd5",
   "metadata": {},
   "source": [
    "Both, the participants and myself, are not sure what he is holding. This output was confusing. "
   ]
  },
  {
   "cell_type": "markdown",
   "id": "01b9f274-9a34-4b06-8c6b-1e27242430e3",
   "metadata": {},
   "source": [
    "<img src=\"img/stress2.jpg\" width=\"30%\"/>"
   ]
  },
  {
   "cell_type": "markdown",
   "id": "8f72369e-0407-42a3-a963-413d163d5fa1",
   "metadata": {},
   "source": [
    "<img src=\"img/stress3.jpg\" width=\"30%\"/>"
   ]
  },
  {
   "cell_type": "markdown",
   "id": "601226ff-8a78-4271-8985-2e89f6166505",
   "metadata": {},
   "source": [
    "<img src=\"img/stress4.jpg\" width=\"30%\"/>"
   ]
  },
  {
   "cell_type": "markdown",
   "id": "5b9c4787-89a2-4704-b8f3-abf2b0409bed",
   "metadata": {},
   "source": [
    "The feedback participants don't like any of these outputs, and emphasized not receiving the intended stress management message."
   ]
  },
  {
   "cell_type": "markdown",
   "id": "42348ff1-38fa-48ba-8099-d539d5d0cbdf",
   "metadata": {},
   "source": [
    "    Infographic PSA (Print/Digital): Headline: Fight Back Against Stress: Gain Calm, Not Chaos Content: Highlight negative consequences of stress (loss of sleep, health problems, strained relationships). (Loss Frame) Showcase benefits of stress management techniques (improved sleep, increased focus, better mood). (Gain Frame)"
   ]
  },
  {
   "cell_type": "markdown",
   "id": "85dbb436-c4a2-4358-87bb-b03baa0402b7",
   "metadata": {},
   "source": [
    "<img src=\"img/info.jpg\" width=\"100%\"/>"
   ]
  },
  {
   "cell_type": "markdown",
   "id": "d39a4bba-1171-4d3c-87be-d75164013d11",
   "metadata": {},
   "source": [
    "<img src=\"img/info2.jpg\" width=\"100%\"/>"
   ]
  },
  {
   "cell_type": "markdown",
   "id": "d79d56c2-d197-4693-aff4-9f0bc658fda7",
   "metadata": {},
   "source": [
    "<img src=\"img/info3.jpg\" width=\"100%\"/>"
   ]
  },
  {
   "cell_type": "markdown",
   "id": "df5eb348-bcc6-4d47-a827-237f7664ff6e",
   "metadata": {},
   "source": [
    "<img src=\"img/info4.jpg\" width=\"100%\"/>"
   ]
  },
  {
   "cell_type": "markdown",
   "id": "3a15a663-b573-4b31-b3c2-548bad336cbe",
   "metadata": {},
   "source": [
    "The Infographics are aesthetically pleasing, but after the title, the words are ineligible. The love the styles of 1 & 3, and the colors used in the 2nd. Overall the 4th is my favorite. Feedback participants loved the colors and schemes, but did comment on the words being. "
   ]
  },
  {
   "cell_type": "markdown",
   "id": "0fdcdcfe-beca-4696-928e-bb3be2ae5432",
   "metadata": {},
   "source": [
    "    Informational Pamphlet (Community Centers/Doctor's Offices): Target Audience: Older Adults (55+) Style: Clear, concise, informative. Content: Depict the connection between stress and health for older adults (heart disease, weakened immune system). Show relaxation techniques (gentle yoga, spending time in nature). Call to Action: depict healthy stress management and creating a healthy lifestyle plan."
   ]
  },
  {
   "cell_type": "markdown",
   "id": "807b0978-a029-4e3e-a210-d23314a1a682",
   "metadata": {},
   "source": [
    "<img src=\"img/old.jpg\" width=\"50%\"/>"
   ]
  },
  {
   "cell_type": "markdown",
   "id": "16969849-58c3-4f8f-bd45-1bb593983f85",
   "metadata": {},
   "source": [
    "<img src=\"img/old2.jpg\" width=\"50%\"/>"
   ]
  },
  {
   "cell_type": "markdown",
   "id": "bbda96e0-3173-43d6-9e82-850c02bf4426",
   "metadata": {},
   "source": [
    "The layout of this output is aesthetically pleasing, but the text is too small."
   ]
  },
  {
   "cell_type": "markdown",
   "id": "623aa32f-4ac7-4ec4-bc74-90dc03cb34fe",
   "metadata": {},
   "source": [
    "<img src=\"img/old3.jpg\" width=\"50%\"/>"
   ]
  },
  {
   "cell_type": "markdown",
   "id": "e38ee064-685f-4c2e-99b7-41551038fc20",
   "metadata": {},
   "source": [
    "<img src=\"img/old4.jpg\" width=\"50%\"/>"
   ]
  },
  {
   "cell_type": "markdown",
   "id": "c0be23bd-df76-4608-88ff-e29fe49b0b18",
   "metadata": {},
   "source": [
    "Again, the words are ineligible. This is consistent across most of the content. "
   ]
  },
  {
   "cell_type": "markdown",
   "id": "6d93debe-68d5-49ab-be37-765b7172cb26",
   "metadata": {},
   "source": [
    "    Informational Pamphlet (Community Centers/Doctor's Offices): Target Audience: Older Adults (55+) Style: Clear, concise, informative. Content: Explain the connection between stress and health for older adults (heart disease, weakened immune system). Highlight: Easy-to-follow relaxation techniques (gentle yoga, spending time in nature). Call to Action: Talk to your doctor about stress management and creating a healthy lifestyle plan."
   ]
  },
  {
   "cell_type": "markdown",
   "id": "e701c026-33ab-48d0-a938-070c6333e0a1",
   "metadata": {},
   "source": [
    "<img src=\"img/old5.jpg\" width=\"50%\"/>"
   ]
  },
  {
   "cell_type": "markdown",
   "id": "f57ade29-29bf-4297-9122-f4f9d4f80f0f",
   "metadata": {},
   "source": [
    "<img src=\"img/old6.jpg\" width=\"50%\"/>"
   ]
  },
  {
   "cell_type": "markdown",
   "id": "f794634a-d036-4596-97cf-554ae9f40580",
   "metadata": {},
   "source": [
    "<img src=\"img/old7.jpg\" width=\"50%\"/>"
   ]
  },
  {
   "cell_type": "markdown",
   "id": "77d7412f-90d2-41a7-943b-13cecc0f7d2e",
   "metadata": {},
   "source": [
    "<img src=\"img/old8.jpg\" width=\"50%\"/>"
   ]
  },
  {
   "cell_type": "markdown",
   "id": "1a5c9181-7244-483d-8611-bd7501bf9c4e",
   "metadata": {},
   "source": [
    "Overall, the feedback participants were very fond of the aesthetics and styles, but disliked that they could not read the words."
   ]
  },
  {
   "cell_type": "markdown",
   "id": "b5186be6-ac87-40b6-9de1-3e4c01c95a73",
   "metadata": {},
   "source": [
    "    Campaign Slogan: Stress Less, Live More. Find what works for YOU. Social Media Video (YouTube/TikTok): Target Audience: Young Adults (18-25) Style: Energetic, relatable, humorous. Content: Short skit portraying a young adult juggling school, work, and social life, feeling overwhelmed. Introduce quick stress management tips (power naps, mindfulness exercises) delivered in a lighthearted way. Call to Action: Visit our website for a personalized stress management plan!"
   ]
  },
  {
   "cell_type": "markdown",
   "id": "6e6573e7-58ed-4c71-98df-3ab9e1bf6728",
   "metadata": {},
   "source": [
    "Although this prompt is crafted for a short social media video, I decided to use it for as a prompt for image generation. "
   ]
  },
  {
   "cell_type": "markdown",
   "id": "2b10d222-c7f7-40da-8213-7cc84556b180",
   "metadata": {},
   "source": [
    "<img src=\"img/new1.jpg\" width=\"50%\"/>"
   ]
  },
  {
   "cell_type": "markdown",
   "id": "12191bf3-3a9d-49d0-a562-f27473ab7e9d",
   "metadata": {},
   "source": [
    "The words on this picture show up more clear and legible than many of the others."
   ]
  },
  {
   "cell_type": "markdown",
   "id": "8763f2c0-7069-40b5-b834-dce23d436678",
   "metadata": {},
   "source": [
    "<img src=\"img/new2.jpg\" width=\"50%\"/>"
   ]
  },
  {
   "cell_type": "markdown",
   "id": "04f59940-433f-4c0f-babc-b37edb0397b8",
   "metadata": {},
   "source": [
    "This person in this output is very realistic, which I don't see often. "
   ]
  },
  {
   "cell_type": "markdown",
   "id": "17b02803-128b-4223-aa5a-5dd6eb5e83db",
   "metadata": {},
   "source": [
    "<img src=\"img/new3.jpg\" width=\"50%\"/>"
   ]
  },
  {
   "cell_type": "markdown",
   "id": "44dfc16f-a7dd-4337-84c7-a97fee3213f0",
   "metadata": {},
   "source": [
    "<img src=\"img/new4.jpg\" width=\"50%\"/>"
   ]
  },
  {
   "cell_type": "markdown",
   "id": "53e20170-ee03-4f14-b73c-72721fc8c1c9",
   "metadata": {},
   "source": [
    "This output could be used as an effective thumbnail on a Youtube Video. "
   ]
  },
  {
   "cell_type": "markdown",
   "id": "6926f32f-f3f9-4879-8fde-134602c1f4da",
   "metadata": {},
   "source": [
    "## Video"
   ]
  },
  {
   "cell_type": "markdown",
   "id": "8c8a77f7-e2e2-46f3-9f6c-cffe6832b8d0",
   "metadata": {},
   "source": [
    "For the videos, I created two versions. Based on the feedback we received, the first video is a clear winner. I wish the video process was more personalized. I used Pictory, and wish the output aligned more with my input. I used the bold feature to specify and emphasis additional attention/importance. This included words such as: **young adults**, **stress**, **school**, **work**, **social life**, **power maps**, and **mindfulness exercises**. Overall, this model is great for quick content creations, but isn't necessarily suitable for Health Communication Messaging. Health Communication Messaging Material should be creative, analytical, concise, and broadly applicable. When utilizing AI it should be leveraged in collaboration with Human expertise, especially in the Health Care setting.  "
   ]
  },
  {
   "cell_type": "markdown",
   "id": "74f20493-bcae-4781-8572-fad8f06756a2",
   "metadata": {},
   "source": [
    "    Social Media Post (TikTok/YouTube/Instagram):\n",
    "    Campaign Slogan:  Stress Less, Live More. Find what works for YOU.\n",
    "\n",
    "    Target Audience: Young Adults (18-25)\n",
    "\n",
    "    Style: Energetic, relatable, humorous.\n",
    "\n",
    "    Content: Short skit portraying a young adult juggling school, work, and social life, feeling overwhelmed. Introduce quick stress management tips (power naps, mindfulness exercises) delivered in a lighthearted way.\n",
    "\n",
    "    Call to Action: Visit our website for a personalized stress management plan!"
   ]
  },
  {
   "cell_type": "markdown",
   "id": "92670c3a-dacc-42e9-85cb-3139c26f0474",
   "metadata": {},
   "source": [
    "https://commjhub.asc.upenn.edu/hub/user-redirect/lab/tree/comm4190_S24/healthcomm/img/bestvid.mp4"
   ]
  },
  {
   "cell_type": "markdown",
   "id": "92277dd7-9d19-49ab-a92f-d77e663b315e",
   "metadata": {},
   "source": [
    "<video width=\"320\" height=\"240\" controls>\n",
    "  <source src=\"bestvid.mp4\" type=\"video/mp4\">\n",
    "</video>"
   ]
  },
  {
   "cell_type": "markdown",
   "id": "b2ebcc40-86de-4b49-9139-6176430e5939",
   "metadata": {},
   "source": [
    "Participants say that they foound the video to be peaceful and calming; the subtitles were helpful and expressed the message. They also felt like the scenes worked well. On there hand, some found the messaging cheesy at times. "
   ]
  },
  {
   "cell_type": "markdown",
   "id": "4046cbd8-3922-4f3c-acff-b7b69bd17544",
   "metadata": {},
   "source": [
    "<video width=\"320\" height=\"240\" controls>\n",
    "  <source src=\"vid2.mp4\" type=\"video/mp4\">\n",
    "</video>"
   ]
  },
  {
   "cell_type": "code",
   "execution_count": null,
   "id": "f248ece3-e4af-4019-9e9c-eca2116c2ac9",
   "metadata": {},
   "outputs": [],
   "source": []
  }
 ],
 "metadata": {
  "citation-manager": {
   "items": {}
  },
  "kernelspec": {
   "display_name": "Python 3.11 (COMM4190)",
   "language": "python",
   "name": "comm4190"
  },
  "language_info": {
   "codemirror_mode": {
    "name": "ipython",
    "version": 3
   },
   "file_extension": ".py",
   "mimetype": "text/x-python",
   "name": "python",
   "nbconvert_exporter": "python",
   "pygments_lexer": "ipython3",
   "version": "3.11.7"
  }
 },
 "nbformat": 4,
 "nbformat_minor": 5
}
